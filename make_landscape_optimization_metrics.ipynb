{
 "cells": [
  {
   "cell_type": "code",
   "execution_count": 1,
   "metadata": {},
   "outputs": [],
   "source": [
    "# Imports\n",
    "import os\n",
    "import shutil\n",
    "from glob import glob\n",
    "from zipfile import ZipFile\n",
    "\n",
    "from osgeo import gdal\n",
    "from osgeo import ogr\n",
    "import geopandas as gpd\n",
    "import pandas as pd\n",
    "import numpy as np\n",
    "import rioxarray as rxr\n",
    "\n",
    "from shapely.geometry import MultiPolygon\n",
    "from geocube.vector import vectorize"
   ]
  },
  {
   "cell_type": "markdown",
   "metadata": {},
   "source": [
    "## Inputs"
   ]
  },
  {
   "cell_type": "markdown",
   "metadata": {},
   "source": [
    "### Input Data"
   ]
  },
  {
   "cell_type": "code",
   "execution_count": 2,
   "metadata": {},
   "outputs": [],
   "source": [
    "# Input Files\n",
    "\n",
    "ms_buildings_tiles: 'CWLFilePathInput' = \"data/MS_bldgs_all_tiles.json\"\n",
    "\n",
    "# Zipped inputs\n",
    "critical_habitats_zip: 'CWLFilePathInput' = \"data/critical_habitats.zip\"\n",
    "flamelen_zip: 'CWLFilePathInput' = \"data/flamelen.zip\"\n",
    "toa_zip: 'CWLFilePathInput' = \"data/toa.zip\""
   ]
  },
  {
   "cell_type": "markdown",
   "metadata": {},
   "source": [
    "### Input Parameters"
   ]
  },
  {
   "cell_type": "code",
   "execution_count": 3,
   "metadata": {},
   "outputs": [],
   "source": [
    "# Input Parameters\n",
    "# budget: 'CWLIntInput' = 5"
   ]
  },
  {
   "cell_type": "markdown",
   "metadata": {},
   "source": [
    "## Outputs"
   ]
  },
  {
   "cell_type": "markdown",
   "metadata": {},
   "source": [
    "### Intermediate Data"
   ]
  },
  {
   "cell_type": "markdown",
   "metadata": {},
   "source": [
    "### Output Data"
   ]
  },
  {
   "cell_type": "code",
   "execution_count": 4,
   "metadata": {},
   "outputs": [],
   "source": [
    "# Output Files\n",
    "burned_area_zip: 'CWLFilePathOutput' = \"burned_area.zip\"\n",
    "building_damage_zip: 'CWLFilePathOutput' = \"building_damage.zip\"\n",
    "habitat_damage_zip: 'CWLFilePathOutput' = \"habitat_damage.zip\"\n",
    "damage_response_zip: 'CWLFilePathOutput' = \"damage_response.zip\"\n",
    "footprints_polygons: 'CWLFilePathOutput' = \"footprints_polygons.json\""
   ]
  },
  {
   "cell_type": "markdown",
   "metadata": {},
   "source": [
    "## Code"
   ]
  },
  {
   "cell_type": "code",
   "execution_count": 5,
   "metadata": {},
   "outputs": [],
   "source": [
    "critical_habitats_dir = \"critical_habitats\"\n",
    "flamelen_dir = \"flamelen\"\n",
    "toa_dir = \"toa\"\n",
    "\n",
    "burned_area_dir = \"burned_area\"\n",
    "building_damage_dir = \"building_damage\"\n",
    "habitat_damage_dir = \"habitat_damage\"\n",
    "damage_response_dir = \"damage_response\"\n",
    "tmp_dir = \"tmp\""
   ]
  },
  {
   "cell_type": "code",
   "execution_count": 6,
   "metadata": {},
   "outputs": [],
   "source": [
    "def unzip(zipfile, todir):\n",
    "    if not os.path.exists(todir):\n",
    "        with ZipFile(zipfile) as zip_file:\n",
    "            filenames = zip_file.namelist()\n",
    "            zip_maindir = None\n",
    "            if filenames[0].endswith(\"/\"):\n",
    "                zip_maindir = filenames[0]\n",
    "            \n",
    "            for filename in zip_file.namelist():\n",
    "                if filename.startswith(\"__\"):\n",
    "                    continue\n",
    "                if zip_maindir and not filename.startswith(zip_maindir):\n",
    "                    continue\n",
    "\n",
    "                tofilename = filename\n",
    "                if zip_maindir:\n",
    "                    tofilename = filename.replace(zip_maindir, todir + \"/\", 1)\n",
    "\n",
    "                if tofilename.endswith(\"/\"):\n",
    "                    os.makedirs(tofilename)\n",
    "                else:\n",
    "                    source = zip_file.open(filename)\n",
    "                    target = open(tofilename, \"wb\")\n",
    "                    with source, target:\n",
    "                        shutil.copyfileobj(source, target)"
   ]
  },
  {
   "cell_type": "markdown",
   "metadata": {},
   "source": [
    "### Helper Functions"
   ]
  },
  {
   "cell_type": "code",
   "execution_count": 7,
   "metadata": {},
   "outputs": [],
   "source": [
    "def _make_polygons(filename, in_path, out_path, prefix):\n",
    "    \"\"\"\n",
    "    Function takes fire footprint raster, converts the intensity values to binary values (burn/not burn) and writes new raster.\n",
    "    It also creates a geopandas dataframe of footprint polygons\n",
    "\n",
    "    Parameters\n",
    "    ----------\n",
    "    filename (str)\n",
    "    in_path (str)\n",
    "    out_path (str)\n",
    "    prefix (str) ex. burned_area\n",
    "\n",
    "    Returns\n",
    "    -------\n",
    "    geopandas dataframe with footprint polygon\n",
    "    \"\"\"\n",
    "\n",
    "    #open tif with gdal and convert to array\n",
    "    print(f'input raster: {filename}')\n",
    "    ds = gdal.Open(in_path+ '/' + filename)\n",
    "    gt = ds.GetGeoTransform()\n",
    "    proj = ds.GetProjection()\n",
    "    band = ds.GetRasterBand(1)\n",
    "    array = band.ReadAsArray()\n",
    "    \n",
    "    # create burn/not burn binary mask\n",
    "\n",
    "    binmask = np.where((array > 0),1,0)  # keep all the values that are greater than 0\n",
    "\n",
    "    # export\n",
    "    driver = gdal.GetDriverByName(\"GTiff\")\n",
    "    driver.Register()\n",
    "    \n",
    "    bin_filename = f\"{prefix}-{filename[4:]}\"\n",
    "    print(f'output raster: {bin_filename}')\n",
    "    outds = driver.Create(out_path+ '/' + bin_filename, xsize = binmask.shape[1],\n",
    "                      ysize = binmask.shape[0], bands = 1, \n",
    "                      eType = gdal.GDT_Int16)\n",
    "    outds.SetGeoTransform(gt)\n",
    "    outds.SetProjection(proj)\n",
    "    outband = outds.GetRasterBand(1)\n",
    "    outband.WriteArray(binmask)\n",
    "    outband.SetNoDataValue(np.nan)\n",
    "    outband.FlushCache()\n",
    "\n",
    "    # close your datasets and bands!\n",
    "    outband = None\n",
    "    outds = None\n",
    "    \n",
    "    #open bin_mask and polygonize it\n",
    "    bin_ = rxr.open_rasterio(out_path+ '/' + bin_filename).squeeze('band', drop=True)\n",
    "\n",
    "    polygons = vectorize(bin_)\n",
    "    polygons.rename(columns={None: \"value\"},inplace=True)\n",
    "    \n",
    "    # polygons = polygonize(bin_, gt)\n",
    "    \n",
    "    perimeter = polygons[polygons['value']==1.0]  # select outside polygon\n",
    "    \n",
    "    # returns polygon in geodataframe\n",
    "    perimeter['filename'] = filename\n",
    "    return perimeter"
   ]
  },
  {
   "cell_type": "code",
   "execution_count": 8,
   "metadata": {},
   "outputs": [
    {
     "ename": "SyntaxError",
     "evalue": "invalid character '‹' (U+2039) (3760461208.py, line 30)",
     "output_type": "error",
     "traceback": [
      "\u001b[0;36m  Cell \u001b[0;32mIn[8], line 30\u001b[0;36m\u001b[0m\n\u001b[0;31m    array = np. where((array ‹ 10),0,array)\u001b[0m\n\u001b[0m                             ^\u001b[0m\n\u001b[0;31mSyntaxError\u001b[0m\u001b[0;31m:\u001b[0m invalid character '‹' (U+2039)\n"
     ]
    }
   ],
   "source": [
    "def _make_damage_response_rasters(filename,in_path,out_path, prefix):\n",
    "    \"\"\"\n",
    "    This script takes fire footprint raster files for flame length and maps the values to \n",
    "    building damage response values (0, 25, 40, 55, 70, 85, 100) and writes a new raster\n",
    "\n",
    "    inputs: \n",
    "    filename (str)\n",
    "    in_path (str)\n",
    "    out_path (str)\n",
    "    prefix (str)\n",
    "\n",
    "    outputs:\n",
    "    damage response rasters\n",
    "    \"\"\"\n",
    "   \n",
    "    #open tif with gdal and convert to array\n",
    "    ds = gdal.Open(in_path+ '/' + filename)\n",
    "    gt = ds.GetGeoTransform()\n",
    "    proj = ds.GetProjection()\n",
    "    band = ds.GetRasterBand(1)\n",
    "    array = band.ReadAsArray()\n",
    "    \n",
    "    # map flame length to building damage response values\n",
    "    # approach as per the Wildfire Risk to Communities paper, https://www.fs.usda.gov/rds/archive/Catalog/RDS-2020-0016\n",
    "    \n",
    "    #<10' flame --> 0 building response function value\n",
    "    #>=10' flame --> 100\n",
    "    \n",
    "    # New modified binary threshold for calculating building damage rasters\n",
    "    array = np. where((array < 10),0, array)\n",
    "    array = np.where((array >= 10), 100, array)\n",
    "    \n",
    "    #binmask = np.where((array > 0),1,0)  # keep all the values that are greater than 0\n",
    "\n",
    "    # export\n",
    "    driver = gdal.GetDriverByName(\"GTiff\")\n",
    "    driver.Register()\n",
    "    \n",
    "    new_filename = f\"{prefix}-{filename[-22:]}\"\n",
    "    #bin_filename = f\"damage_response-{filename[9:]}\"\n",
    "    print(new_filename)\n",
    "    \n",
    "    #out_path='../test/'+new_filename\n",
    "    outds = driver.Create(out_path+ '/' + new_filename, xsize = array.shape[1],\n",
    "                      ysize = array.shape[0], bands = 1, \n",
    "                      eType = gdal.GDT_Int16)\n",
    "    outds.SetGeoTransform(gt)\n",
    "    outds.SetProjection(proj)\n",
    "    outband = outds.GetRasterBand(1)\n",
    "    outband.WriteArray(array)\n",
    "    outband.SetNoDataValue(np.nan)\n",
    "    outband.FlushCache()\n",
    "\n",
    "    # close your datasets and bands!\n",
    "    outband = None\n",
    "    outds = None\n",
    "\n",
    "    pass"
   ]
  },
  {
   "cell_type": "code",
   "execution_count": null,
   "metadata": {},
   "outputs": [],
   "source": [
    "def _groupby_multipoly(df, by, aggfunc=\"first\"):\n",
    "    \"\"\"\n",
    "    This function make multipolygons from polygons for fire footprints\n",
    "\n",
    "    inputs:\n",
    "    geopandas dataframe with polygons\n",
    "\n",
    "    outputs:\n",
    "    geopandas dataframe with multipolygons\n",
    "    \"\"\"\n",
    "    \n",
    "    data = df.drop(labels=df.geometry.name, axis=1)\n",
    "    aggregated_data = data.groupby(by=by).agg(aggfunc)\n",
    "\n",
    "    # Process spatial component\n",
    "    def merge_geometries(block):\n",
    "        return MultiPolygon(block.values)\n",
    "\n",
    "    g = df.groupby(by=by, group_keys=False)[df.geometry.name].agg(\n",
    "        merge_geometries\n",
    "    )\n",
    "\n",
    "    # Aggregate\n",
    "    aggregated_geometry = gpd.GeoDataFrame(g, geometry=df.geometry.name, crs=df.crs)\n",
    "    # Recombine\n",
    "    aggregated = aggregated_geometry.join(aggregated_data)\n",
    "    return aggregated"
   ]
  },
  {
   "cell_type": "code",
   "execution_count": null,
   "metadata": {},
   "outputs": [],
   "source": [
    "def _make_bldg_damage_raster(filename,shp_filename,in_path,out_path, prefix,out_path_tmp):\n",
    "\n",
    "    \"\"\"\n",
    "    This function takes in damage response rasters and creates binary building \n",
    "    damage (tmp) rasters and building damage rasters with varying intensity.\n",
    "\n",
    "    inputs:\n",
    "    \n",
    "    filename (str)\n",
    "    shp_filename (str)\n",
    "    in_path (str)\n",
    "    out_path (str)\n",
    "    prefix (str)\n",
    "    out_path_tmp (str)\n",
    "\n",
    "    outputs:\n",
    "\n",
    "    raster files\n",
    "    \"\"\"\n",
    "    \n",
    "    fn_ras = in_path+ '/' + 'damage_response-'+filename\n",
    "    print('input raster: ',fn_ras) \n",
    "    ras_ds = gdal.Open(fn_ras)\n",
    "    intensity_array = ras_ds.GetRasterBand(1).ReadAsArray()\n",
    "    driver = ogr.GetDriverByName('ESRI Shapefile')\n",
    "    vec_ds = driver.Open(shp_filename)\n",
    "    lyr = vec_ds.GetLayer() \n",
    "    geot = ras_ds.GetGeoTransform()\n",
    "    geo_proj = ras_ds.GetProjection() \n",
    "    \n",
    "    # Setup the New Raster\n",
    "    drv_tiff = gdal.GetDriverByName(\"GTiff\") \n",
    "    out_net=f'{out_path_tmp+ \"/\" + prefix}-binary-{filename}'\n",
    "    print(out_net)\n",
    "    chn_ras_ds = drv_tiff.Create(out_net, ras_ds.RasterXSize, ras_ds.RasterYSize, 1, gdal.GDT_Float32)\n",
    "    chn_ras_ds.SetGeoTransform(geot)\n",
    "    chn_ras_ds.SetProjection(geo_proj) \n",
    "    gdal.RasterizeLayer(chn_ras_ds, [1], lyr, burn_values=[1])\n",
    "    chn_ras_ds.GetRasterBand(1).SetNoDataValue(np.nan) \n",
    "    chn_ras_ds = None\n",
    "    \n",
    "    # open binary bldg damage raster back up\n",
    "    ds = gdal.Open(out_net)\n",
    "    gt = ds.GetGeoTransform()\n",
    "    proj = ds.GetProjection()\n",
    "    band = ds.GetRasterBand(1)\n",
    "    bin_array = band.ReadAsArray()\n",
    "    \n",
    "    # get array and use as mask to get values from damage_response raster array\n",
    "    damage_array = intensity_array*bin_array.astype(int)\n",
    "    damage_array = np.where((damage_array > 0), 1, 0) # keep all the values that are greater than 0\n",
    "    \n",
    "    #print(damage_array.shape)\n",
    "    \n",
    "    # write new raster using chn_ras_ds.GetRasterBand(1).WriteArray(binmask)\n",
    "    # export\n",
    "    driver_ = gdal.GetDriverByName(\"GTiff\")\n",
    "    driver_.Register()\n",
    "    out=f'{out_path+ \"/\" + prefix}-{filename}'\n",
    "    print(f'output raster: {out}')\n",
    "    outds = driver_.Create(out, xsize = damage_array.shape[1],\n",
    "                      ysize = damage_array.shape[0], bands = 1, \n",
    "                      eType = gdal.GDT_Int16)\n",
    "    outds.SetGeoTransform(gt)\n",
    "    outds.SetProjection(proj)\n",
    "    outband = outds.GetRasterBand(1)\n",
    "    outband.WriteArray(damage_array)\n",
    "    outband.SetNoDataValue(np.nan)\n",
    "    outband.FlushCache()\n",
    "\n",
    "    # close datasets and bands\n",
    "    outband = None\n",
    "    outds = None\n",
    "    \n",
    "    pass"
   ]
  },
  {
   "cell_type": "code",
   "execution_count": null,
   "metadata": {},
   "outputs": [],
   "source": [
    "def _make_raster(filename, shp_filename, in_path, out_path, prefix):\n",
    "    \"\"\"\n",
    "    This function writes raster files\n",
    "\n",
    "    parameters:\n",
    "    \n",
    "        filename (str)\n",
    "        shp_filename (str)\n",
    "        in_path (str)\n",
    "        out_path (str)\n",
    "        prefix (str)\n",
    "\n",
    "    outputs:\n",
    "\n",
    "        raster files\n",
    "    \"\"\"\n",
    "    \n",
    "    fn_ras = in_path+'/' + 'toa-'+filename\n",
    "    ras_ds = gdal.Open(fn_ras)\n",
    "    driver = ogr.GetDriverByName('ESRI Shapefile')\n",
    "    vec_ds = driver.Open(shp_filename) \n",
    "    lyr = vec_ds.GetLayer() \n",
    "    geot = ras_ds.GetGeoTransform()\n",
    "    geo_proj = ras_ds.GetProjection() \n",
    "    \n",
    "    # Setup the New Raster\n",
    "    drv_tiff = gdal.GetDriverByName(\"GTiff\") \n",
    "    out_net=out_path+ '/' + prefix+filename\n",
    "    print('writing output raster: ',out_net)\n",
    "    chn_ras_ds = drv_tiff.Create(out_net, ras_ds.RasterXSize, ras_ds.RasterYSize, 1, gdal.GDT_Float32)\n",
    "    chn_ras_ds.SetGeoTransform(geot)\n",
    "    chn_ras_ds.SetProjection(geo_proj) \n",
    "    gdal.RasterizeLayer(chn_ras_ds, [1], lyr, burn_values=[1])\n",
    "    chn_ras_ds.GetRasterBand(1).SetNoDataValue(np.nan) \n",
    "    chn_ras_ds = None\n",
    "    pass"
   ]
  },
  {
   "cell_type": "markdown",
   "metadata": {},
   "source": [
    "### Main Functions"
   ]
  },
  {
   "cell_type": "code",
   "execution_count": null,
   "metadata": {},
   "outputs": [],
   "source": [
    "def make_burned_area_rasters(toa_dir, out_burned_area_dir, footprints_polygons_path):\n",
    "    prefix='burned_area'\n",
    "\n",
    "    files = [file for file in os.listdir(toa_dir) if file.endswith(\".tif\")]\n",
    "    gdf = gpd.GeoDataFrame(columns=['feature'],geometry='feature',crs='EPSG:32610')\n",
    "    for file in files:\n",
    "        new_gdf = _make_polygons(file, toa_dir, out_burned_area_dir, prefix)\n",
    "        gdf = pd.concat([gdf, new_gdf], ignore_index=True)\n",
    "    gdf = gdf.drop(['feature'], axis=1)\n",
    "    gdf = gdf.set_geometry(\"geometry\")\n",
    "    gdf.to_file(footprints_polygons_path, driver=\"GeoJSON\")   "
   ]
  },
  {
   "cell_type": "code",
   "execution_count": null,
   "metadata": {},
   "outputs": [],
   "source": [
    "def make_damage_response_rasters(flamelen_dir, out_damage_response_dir):\n",
    "    prefix='damage_response'\n",
    "    files = [file for file in os.listdir(flamelen_dir) if file.endswith(\".tif\")]\n",
    "    for file in files:\n",
    "        _make_damage_response_rasters(file, flamelen_dir, out_damage_response_dir, prefix)"
   ]
  },
  {
   "cell_type": "code",
   "execution_count": null,
   "metadata": {},
   "outputs": [],
   "source": [
    "def make_building_damage_rasters(damage_response_dir, ms_buildings_tiles_path, footprints_polygons_path, tmp_dir, out_building_damage_dir):\n",
    "    # footprint_polygons\n",
    "\n",
    "    footprint_polygons = gpd.read_file(footprints_polygons_path)\n",
    "    footprint_polygons = footprint_polygons.set_crs('EPSG:32610',allow_override=True)\n",
    "\n",
    "    # make multipolygons from polygons for fire footprints\n",
    "    grouped = _groupby_multipoly(footprint_polygons, by='filename').reset_index()\n",
    "\n",
    "    # load bldgs\n",
    "    bldgs = gpd.read_file(ms_buildings_tiles_path).to_crs('EPSG:32610') \n",
    "\n",
    "    # intersect fire footprint MPs with bldgs polygons\n",
    "    intersection = gpd.overlay(grouped, bldgs, how='intersection')\n",
    "\n",
    "    # for given fire footprint, merge (essentially a groupby) bldg polygons into multipolygon\n",
    "    gdf = intersection.dissolve(by='filename').reset_index()\n",
    "\n",
    "    prefix='building_damage'\n",
    "\n",
    "    for i in range(len(gdf)):\n",
    "        #create shp files\n",
    "        shp_filename=f\"{tmp_dir + '/' + prefix}-{gdf.iloc[i].filename[4:22]}.shp\"\n",
    "        gdf.iloc[[i]].to_file(driver = 'ESRI Shapefile', filename=shp_filename)\n",
    "        \n",
    "        root_filename=f\"{gdf.iloc[i].filename[4:22]}.tif\"\n",
    "        #print(root_filename)\n",
    "        _make_bldg_damage_raster(root_filename,shp_filename,damage_response_dir,out_building_damage_dir, prefix, tmp_dir)  "
   ]
  },
  {
   "cell_type": "code",
   "execution_count": null,
   "metadata": {},
   "outputs": [],
   "source": [
    "def make_habitat_damage_raster(toa_dir, critical_habitats_dir, footprints_polygons_path, tmp_dir, out_habitat_damage_dir):\n",
    "    # footprint_polygons\n",
    "    footprint_polygons = gpd.read_file(footprints_polygons_path)\n",
    "    footprint_polygons = footprint_polygons.set_crs('EPSG:32610',allow_override=True)\n",
    "\n",
    "    # make multipolygons from polygons for fire footprints\n",
    "    grouped = _groupby_multipoly(footprint_polygons, by='filename').reset_index()\n",
    "  \n",
    "    # load critical habitat\n",
    "    habitat_shape_file = glob(os.path.join(critical_habitats_dir, '*.shp'))[0]\n",
    "    habitat = gpd.read_file(habitat_shape_file).to_crs('EPSG:32610') \n",
    "\n",
    "    # intersect fire footprint MPs with habitat polygons\n",
    "    intersection = gpd.overlay(grouped, habitat, how='intersection')\n",
    "\n",
    "    # for given fire footprint, merge (essentially a groupby) bldg polygons into multipolygon\n",
    "    gdf = intersection.dissolve(by='filename').reset_index()\n",
    "\n",
    "    prefix='habitat_damage-'\n",
    "\n",
    "    for i in range(len(gdf)):\n",
    "        #create shp files\n",
    "        shp_filename=f\"{tmp_dir + '/' + prefix}-{gdf.iloc[i].filename[4:22]}.shp\"\n",
    "        gdf.iloc[[i]].to_file(driver = 'ESRI Shapefile', filename=shp_filename)\n",
    "        \n",
    "        root_filename=f\"{gdf.iloc[i].filename[4:22]}.tif\"\n",
    "        #print(root_filename)\n",
    "        _make_raster(root_filename,shp_filename,toa_dir,out_habitat_damage_dir, prefix)"
   ]
  },
  {
   "cell_type": "markdown",
   "metadata": {},
   "source": [
    "## Main Code"
   ]
  },
  {
   "cell_type": "code",
   "execution_count": null,
   "metadata": {},
   "outputs": [],
   "source": [
    "# Extract zip files\n",
    "unzip(critical_habitats_zip, critical_habitats_dir)\n",
    "unzip(flamelen_zip, flamelen_dir)\n",
    "unzip(toa_zip, toa_dir)"
   ]
  },
  {
   "cell_type": "code",
   "execution_count": null,
   "metadata": {},
   "outputs": [],
   "source": [
    "# Make output directories\n",
    "os.makedirs(burned_area_dir, exist_ok=True)\n",
    "os.makedirs(building_damage_dir, exist_ok=True)\n",
    "os.makedirs(habitat_damage_dir, exist_ok=True)\n",
    "os.makedirs(damage_response_dir, exist_ok=True)\n",
    "os.makedirs(tmp_dir, exist_ok=True)"
   ]
  },
  {
   "cell_type": "code",
   "execution_count": null,
   "metadata": {},
   "outputs": [
    {
     "name": "stdout",
     "output_type": "stream",
     "text": [
      "input raster: toa-24_31-2925-0000005.tif\n",
      "output raster: burned_area-24_31-2925-0000005.tif\n",
      "input raster: toa-24_31-2925-0000004.tif\n",
      "output raster: burned_area-24_31-2925-0000004.tif\n",
      "input raster: toa-24_31-2925-0000006.tif\n",
      "output raster: burned_area-24_31-2925-0000006.tif\n",
      "input raster: toa-24_31-2925-0000007.tif\n",
      "output raster: burned_area-24_31-2925-0000007.tif\n"
     ]
    },
    {
     "name": "stderr",
     "output_type": "stream",
     "text": [
      "/Users/varun/miniforge3/envs/landoptmet/lib/python3.10/site-packages/geopandas/geodataframe.py:1456: SettingWithCopyWarning: \n",
      "A value is trying to be set on a copy of a slice from a DataFrame.\n",
      "Try using .loc[row_indexer,col_indexer] = value instead\n",
      "\n",
      "See the caveats in the documentation: https://pandas.pydata.org/pandas-docs/stable/user_guide/indexing.html#returning-a-view-versus-a-copy\n",
      "  super().__setitem__(key, value)\n",
      "/Users/varun/miniforge3/envs/landoptmet/lib/python3.10/site-packages/geopandas/geodataframe.py:1456: SettingWithCopyWarning: \n",
      "A value is trying to be set on a copy of a slice from a DataFrame.\n",
      "Try using .loc[row_indexer,col_indexer] = value instead\n",
      "\n",
      "See the caveats in the documentation: https://pandas.pydata.org/pandas-docs/stable/user_guide/indexing.html#returning-a-view-versus-a-copy\n",
      "  super().__setitem__(key, value)\n",
      "/Users/varun/miniforge3/envs/landoptmet/lib/python3.10/site-packages/geopandas/geodataframe.py:1456: SettingWithCopyWarning: \n",
      "A value is trying to be set on a copy of a slice from a DataFrame.\n",
      "Try using .loc[row_indexer,col_indexer] = value instead\n",
      "\n",
      "See the caveats in the documentation: https://pandas.pydata.org/pandas-docs/stable/user_guide/indexing.html#returning-a-view-versus-a-copy\n",
      "  super().__setitem__(key, value)\n",
      "/Users/varun/miniforge3/envs/landoptmet/lib/python3.10/site-packages/geopandas/geodataframe.py:1456: SettingWithCopyWarning: \n",
      "A value is trying to be set on a copy of a slice from a DataFrame.\n",
      "Try using .loc[row_indexer,col_indexer] = value instead\n",
      "\n",
      "See the caveats in the documentation: https://pandas.pydata.org/pandas-docs/stable/user_guide/indexing.html#returning-a-view-versus-a-copy\n",
      "  super().__setitem__(key, value)\n"
     ]
    }
   ],
   "source": [
    "make_burned_area_rasters(toa_dir, burned_area_dir, footprints_polygons)"
   ]
  },
  {
   "cell_type": "code",
   "execution_count": null,
   "metadata": {},
   "outputs": [
    {
     "name": "stdout",
     "output_type": "stream",
     "text": [
      "damage_response-24_31-2925-0000006.tif\n",
      "damage_response-24_31-2925-0000007.tif\n",
      "damage_response-24_31-2925-0000005.tif\n",
      "damage_response-24_31-2925-0000004.tif\n",
      "                       filename  value     index  release  \\\n",
      "0    toa-24_31-2925-0000004.tif    1.0   5253492        2   \n",
      "1    toa-24_31-2925-0000004.tif    1.0   7300005        2   \n",
      "2    toa-24_31-2925-0000004.tif    1.0   8158323        2   \n",
      "3    toa-24_31-2925-0000004.tif    1.0   8158438        2   \n",
      "4    toa-24_31-2925-0000004.tif    1.0   8674150        2   \n",
      "..                          ...    ...       ...      ...   \n",
      "193  toa-24_31-2925-0000007.tif    1.0  10709544        2   \n",
      "194  toa-24_31-2925-0000007.tif    1.0  10709658        2   \n",
      "195  toa-24_31-2925-0000007.tif    1.0  10748806        2   \n",
      "196  toa-24_31-2925-0000007.tif    1.0  11153576        2   \n",
      "197  toa-24_31-2925-0000007.tif    1.0  11456832        2   \n",
      "\n",
      "                                              geometry  \n",
      "0    POLYGON ((786366.011 4151660.290, 786365.803 4...  \n",
      "1    POLYGON ((786773.271 4151107.268, 786771.534 4...  \n",
      "2    POLYGON ((786379.474 4151680.866, 786390.859 4...  \n",
      "3    POLYGON ((786182.021 4153071.960, 786174.014 4...  \n",
      "4    POLYGON ((786941.976 4150866.729, 786934.449 4...  \n",
      "..                                                 ...  \n",
      "193  POLYGON ((778169.183 4148306.512, 778174.157 4...  \n",
      "194  POLYGON ((777996.244 4148215.110, 778005.764 4...  \n",
      "195  POLYGON ((778611.050 4148588.610, 778607.776 4...  \n",
      "196  POLYGON ((778088.943 4147907.618, 778088.593 4...  \n",
      "197  POLYGON ((778043.778 4148127.329, 778038.431 4...  \n",
      "\n",
      "[198 rows x 5 columns]\n",
      "                     filename  \\\n",
      "0  toa-24_31-2925-0000004.tif   \n",
      "1  toa-24_31-2925-0000005.tif   \n",
      "2  toa-24_31-2925-0000006.tif   \n",
      "3  toa-24_31-2925-0000007.tif   \n",
      "\n",
      "                                            geometry  value    index  release  \n",
      "0  MULTIPOLYGON (((786935.573 4150872.620, 786930...    1.0  5253492        2  \n",
      "1  MULTIPOLYGON (((773767.434 4149009.186, 773771...    1.0   257096        2  \n",
      "2  MULTIPOLYGON (((773765.600 4149013.793, 773767...    1.0   257096        2  \n",
      "3  MULTIPOLYGON (((778075.478 4147918.168, 778086...    1.0   254289        2  \n",
      "input raster:  damage_response/damage_response-24_31-2925-0000004.tif\n",
      "tmp/building_damage-binary-24_31-2925-0000004.tif\n",
      "output raster: building_damage/building_damage-24_31-2925-0000004.tif\n",
      "input raster:  damage_response/damage_response-24_31-2925-0000005.tif\n",
      "tmp/building_damage-binary-24_31-2925-0000005.tif\n",
      "output raster: building_damage/building_damage-24_31-2925-0000005.tif\n",
      "input raster:  damage_response/damage_response-24_31-2925-0000006.tif\n",
      "tmp/building_damage-binary-24_31-2925-0000006.tif\n",
      "output raster: building_damage/building_damage-24_31-2925-0000006.tif\n",
      "input raster:  damage_response/damage_response-24_31-2925-0000007.tif\n",
      "tmp/building_damage-binary-24_31-2925-0000007.tif\n",
      "output raster: building_damage/building_damage-24_31-2925-0000007.tif\n"
     ]
    }
   ],
   "source": [
    "make_damage_response_rasters(flamelen_dir, damage_response_dir)\n",
    "make_building_damage_rasters(damage_response_dir, ms_buildings_tiles, footprints_polygons, tmp_dir, building_damage_dir)"
   ]
  },
  {
   "cell_type": "code",
   "execution_count": null,
   "metadata": {},
   "outputs": [
    {
     "name": "stdout",
     "output_type": "stream",
     "text": [
      "writing output raster:  habitat_damage/habitat_damage-24_31-2925-0000004.tif\n"
     ]
    }
   ],
   "source": [
    "make_habitat_damage_raster(toa_dir, critical_habitats_dir, footprints_polygons, tmp_dir, habitat_damage_dir)"
   ]
  },
  {
   "cell_type": "code",
   "execution_count": null,
   "metadata": {},
   "outputs": [],
   "source": [
    "# Create zip files\n",
    "shutil.make_archive(burned_area_dir, 'zip', burned_area_dir)\n",
    "os.rename(f\"{burned_area_dir}.zip\", burned_area_zip)\n",
    "\n",
    "shutil.make_archive(building_damage_dir, 'zip', building_damage_dir)\n",
    "os.rename(f\"{building_damage_dir}.zip\", building_damage_zip)\n",
    "\n",
    "shutil.make_archive(damage_response_dir, 'zip', damage_response_dir)\n",
    "os.rename(f\"{damage_response_dir}.zip\", damage_response_zip)\n",
    "\n",
    "shutil.make_archive(habitat_damage_dir, 'zip', habitat_damage_dir)\n",
    "os.rename(f\"{habitat_damage_dir}.zip\", habitat_damage_zip)"
   ]
  },
  {
   "cell_type": "code",
   "execution_count": null,
   "metadata": {},
   "outputs": [],
   "source": [
    "# Clean up\n",
    "shutil.rmtree(critical_habitats_dir)\n",
    "shutil.rmtree(flamelen_dir)\n",
    "shutil.rmtree(toa_dir)\n",
    "shutil.rmtree(burned_area_dir)\n",
    "shutil.rmtree(building_damage_dir)\n",
    "shutil.rmtree(habitat_damage_dir)\n",
    "shutil.rmtree(damage_response_dir)\n",
    "shutil.rmtree(tmp_dir)"
   ]
  }
 ],
 "metadata": {
  "kernelspec": {
   "display_name": "landoptmet",
   "language": "python",
   "name": "python3"
  },
  "language_info": {
   "codemirror_mode": {
    "name": "ipython",
    "version": 3
   },
   "file_extension": ".py",
   "mimetype": "text/x-python",
   "name": "python",
   "nbconvert_exporter": "python",
   "pygments_lexer": "ipython3",
   "version": "3.10.12"
  },
  "orig_nbformat": 4
 },
 "nbformat": 4,
 "nbformat_minor": 2
}
